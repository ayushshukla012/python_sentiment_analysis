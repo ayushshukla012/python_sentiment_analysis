{
 "cells": [
  {
   "cell_type": "code",
   "execution_count": 3,
   "id": "fbd4b147",
   "metadata": {},
   "outputs": [],
   "source": [
    "import nltk\n",
    "from nltk.corpus import stopwords\n",
    "from nltk.stem import WordNetLemmatizer\n",
    "import spacy\n",
    "import pandas as pd\n",
    "import numpy as np\n",
    "import re\n",
    "from bs4 import BeautifulSoup\n",
    "from string import punctuation\n",
    "import matplotlib.pyplot as plt\n",
    "import seaborn as sns\n",
    "\n",
    "from sklearn.model_selection import train_test_split\n",
    "from sklearn.feature_extraction.text import CountVectorizer\n",
    "from sklearn.metrics import f1_score, accuracy_score\n",
    "\n",
    "from sklearn.tree import DecisionTreeClassifier\n",
    "from sklearn.ensemble import RandomForestClassifier, BaggingClassifier, GradientBoostingClassifier\n",
    "from sklearn.linear_model import LogisticRegression\n",
    "from sklearn.naive_bayes import GaussianNB\n",
    "from sklearn.neighbors import KNeighborsClassifier\n",
    "\n",
    "from keras.preprocessing.text import Tokenizer\n",
    "from keras.preprocessing.sequence import pad_sequences\n",
    "from keras.layers import Dense, Input, LSTM, Embedding, Dropout, Activation, GRU, Flatten\n",
    "from keras.layers import Bidirectional, GlobalMaxPool1D, Convolution1D\n",
    "from keras.models import Model, Sequential\n",
    "from keras import initializers, regularizers, constraints, optimizers, layers"
   ]
  },
  {
   "cell_type": "code",
   "execution_count": 4,
   "id": "c59132d4",
   "metadata": {},
   "outputs": [],
   "source": [
    "df = pd.read_csv('C:/Users/Ayush shukla/Downloads/flipkart.csv')"
   ]
  },
  {
   "cell_type": "code",
   "execution_count": 4,
   "id": "d0e50e42",
   "metadata": {},
   "outputs": [
    {
     "data": {
      "text/html": [
       "<div>\n",
       "<style scoped>\n",
       "    .dataframe tbody tr th:only-of-type {\n",
       "        vertical-align: middle;\n",
       "    }\n",
       "\n",
       "    .dataframe tbody tr th {\n",
       "        vertical-align: top;\n",
       "    }\n",
       "\n",
       "    .dataframe thead th {\n",
       "        text-align: right;\n",
       "    }\n",
       "</style>\n",
       "<table border=\"1\" class=\"dataframe\">\n",
       "  <thead>\n",
       "    <tr style=\"text-align: right;\">\n",
       "      <th></th>\n",
       "      <th>marketplace</th>\n",
       "      <th>customer_id</th>\n",
       "      <th>review_id</th>\n",
       "      <th>product_title</th>\n",
       "      <th>product_category</th>\n",
       "      <th>star_rating</th>\n",
       "      <th>helpful_votes</th>\n",
       "      <th>total_votes</th>\n",
       "      <th>vine</th>\n",
       "      <th>verified_purchase</th>\n",
       "      <th>review_headline</th>\n",
       "      <th>review_body</th>\n",
       "      <th>review_date</th>\n",
       "    </tr>\n",
       "  </thead>\n",
       "  <tbody>\n",
       "    <tr>\n",
       "      <th>0</th>\n",
       "      <td>US</td>\n",
       "      <td>41099022</td>\n",
       "      <td>R59VGL4HIPFDP</td>\n",
       "      <td>Foscam FI8910W Wireless/Wired Pan &amp; Tilt IP/Ne...</td>\n",
       "      <td>Camera</td>\n",
       "      <td>1</td>\n",
       "      <td>0</td>\n",
       "      <td>1</td>\n",
       "      <td>N</td>\n",
       "      <td>Y</td>\n",
       "      <td>One Star</td>\n",
       "      <td>garbage</td>\n",
       "      <td>31-08-2015</td>\n",
       "    </tr>\n",
       "    <tr>\n",
       "      <th>1</th>\n",
       "      <td>US</td>\n",
       "      <td>15744366</td>\n",
       "      <td>R3GR0Z9Z4Z1295</td>\n",
       "      <td>Foscam FI8910W Wireless/Wired Pan &amp; Tilt IP/Ne...</td>\n",
       "      <td>Camera</td>\n",
       "      <td>1</td>\n",
       "      <td>0</td>\n",
       "      <td>0</td>\n",
       "      <td>N</td>\n",
       "      <td>N</td>\n",
       "      <td>Doesn't work as advertised</td>\n",
       "      <td>Didn't work as advertised, there was no sound ...</td>\n",
       "      <td>31-08-2015</td>\n",
       "    </tr>\n",
       "    <tr>\n",
       "      <th>2</th>\n",
       "      <td>US</td>\n",
       "      <td>46165193</td>\n",
       "      <td>R8R09HXXQHIWN</td>\n",
       "      <td>Foscam FI8910W Wireless/Wired Pan &amp; Tilt IP/Ne...</td>\n",
       "      <td>Camera</td>\n",
       "      <td>1</td>\n",
       "      <td>0</td>\n",
       "      <td>0</td>\n",
       "      <td>N</td>\n",
       "      <td>Y</td>\n",
       "      <td>One Star</td>\n",
       "      <td>Setup way to complicated for the average user.</td>\n",
       "      <td>30-08-2015</td>\n",
       "    </tr>\n",
       "    <tr>\n",
       "      <th>3</th>\n",
       "      <td>US</td>\n",
       "      <td>31009192</td>\n",
       "      <td>R19JT1LFVNATBG</td>\n",
       "      <td>Foscam FI8910W Wireless/Wired Pan &amp; Tilt IP/Ne...</td>\n",
       "      <td>Camera</td>\n",
       "      <td>5</td>\n",
       "      <td>0</td>\n",
       "      <td>0</td>\n",
       "      <td>N</td>\n",
       "      <td>N</td>\n",
       "      <td>We love the camera but had a lot of difficulty...</td>\n",
       "      <td>We purchased a Foscam about 6 months ago. We l...</td>\n",
       "      <td>30-08-2015</td>\n",
       "    </tr>\n",
       "    <tr>\n",
       "      <th>4</th>\n",
       "      <td>US</td>\n",
       "      <td>52865176</td>\n",
       "      <td>R2SCARC7V2J64P</td>\n",
       "      <td>Foscam FI8910W Wireless/Wired Pan &amp; Tilt IP/Ne...</td>\n",
       "      <td>Camera</td>\n",
       "      <td>2</td>\n",
       "      <td>0</td>\n",
       "      <td>0</td>\n",
       "      <td>N</td>\n",
       "      <td>N</td>\n",
       "      <td>Saved Grandma but camera died after 2 yrs</td>\n",
       "      <td>Worked for 2 yrs as a 'granny cam' and saved h...</td>\n",
       "      <td>29-08-2015</td>\n",
       "    </tr>\n",
       "    <tr>\n",
       "      <th>5</th>\n",
       "      <td>US</td>\n",
       "      <td>3282316</td>\n",
       "      <td>R10WZ8I85SRCMK</td>\n",
       "      <td>Foscam FI8910W Wireless/Wired Pan &amp; Tilt IP/Ne...</td>\n",
       "      <td>Camera</td>\n",
       "      <td>1</td>\n",
       "      <td>0</td>\n",
       "      <td>0</td>\n",
       "      <td>N</td>\n",
       "      <td>Y</td>\n",
       "      <td>get what you pay for</td>\n",
       "      <td>I bought this with reading all these reviews,I...</td>\n",
       "      <td>28-08-2015</td>\n",
       "    </tr>\n",
       "    <tr>\n",
       "      <th>6</th>\n",
       "      <td>US</td>\n",
       "      <td>14005127</td>\n",
       "      <td>RN51K25SFP9LC</td>\n",
       "      <td>Foscam FI8910W Wireless/Wired Pan &amp; Tilt IP/Ne...</td>\n",
       "      <td>Camera</td>\n",
       "      <td>1</td>\n",
       "      <td>0</td>\n",
       "      <td>0</td>\n",
       "      <td>N</td>\n",
       "      <td>Y</td>\n",
       "      <td>Completely and totally unreliable</td>\n",
       "      <td>It's basically impossible to make this camera/...</td>\n",
       "      <td>27-08-2015</td>\n",
       "    </tr>\n",
       "    <tr>\n",
       "      <th>7</th>\n",
       "      <td>US</td>\n",
       "      <td>37183268</td>\n",
       "      <td>R2TE5F2DGA9Q2T</td>\n",
       "      <td>Foscam FI8910W Wireless/Wired Pan &amp; Tilt IP/Ne...</td>\n",
       "      <td>Camera</td>\n",
       "      <td>3</td>\n",
       "      <td>0</td>\n",
       "      <td>0</td>\n",
       "      <td>N</td>\n",
       "      <td>Y</td>\n",
       "      <td>Three Stars</td>\n",
       "      <td>AC Adapter died after 1 year</td>\n",
       "      <td>27-08-2015</td>\n",
       "    </tr>\n",
       "    <tr>\n",
       "      <th>8</th>\n",
       "      <td>US</td>\n",
       "      <td>48954925</td>\n",
       "      <td>R2J7XTAUP2H3XZ</td>\n",
       "      <td>Foscam FI8910W Wireless/Wired Pan &amp; Tilt IP/Ne...</td>\n",
       "      <td>Camera</td>\n",
       "      <td>5</td>\n",
       "      <td>0</td>\n",
       "      <td>1</td>\n",
       "      <td>N</td>\n",
       "      <td>N</td>\n",
       "      <td>I'm not very camera smart, but this was the ea...</td>\n",
       "      <td>Thank you John, for being so helpful in settin...</td>\n",
       "      <td>26-08-2015</td>\n",
       "    </tr>\n",
       "    <tr>\n",
       "      <th>9</th>\n",
       "      <td>US</td>\n",
       "      <td>14455954</td>\n",
       "      <td>R2P8V1C2RGDMSB</td>\n",
       "      <td>Foscam FI8910W Wireless/Wired Pan &amp; Tilt IP/Ne...</td>\n",
       "      <td>Camera</td>\n",
       "      <td>4</td>\n",
       "      <td>0</td>\n",
       "      <td>0</td>\n",
       "      <td>N</td>\n",
       "      <td>Y</td>\n",
       "      <td>Four Stars</td>\n",
       "      <td>works well</td>\n",
       "      <td>26-08-2015</td>\n",
       "    </tr>\n",
       "  </tbody>\n",
       "</table>\n",
       "</div>"
      ],
      "text/plain": [
       "  marketplace  customer_id       review_id  \\\n",
       "0          US     41099022   R59VGL4HIPFDP   \n",
       "1          US     15744366  R3GR0Z9Z4Z1295   \n",
       "2          US     46165193   R8R09HXXQHIWN   \n",
       "3          US     31009192  R19JT1LFVNATBG   \n",
       "4          US     52865176  R2SCARC7V2J64P   \n",
       "5          US      3282316  R10WZ8I85SRCMK   \n",
       "6          US     14005127   RN51K25SFP9LC   \n",
       "7          US     37183268  R2TE5F2DGA9Q2T   \n",
       "8          US     48954925  R2J7XTAUP2H3XZ   \n",
       "9          US     14455954  R2P8V1C2RGDMSB   \n",
       "\n",
       "                                       product_title product_category  \\\n",
       "0  Foscam FI8910W Wireless/Wired Pan & Tilt IP/Ne...           Camera   \n",
       "1  Foscam FI8910W Wireless/Wired Pan & Tilt IP/Ne...           Camera   \n",
       "2  Foscam FI8910W Wireless/Wired Pan & Tilt IP/Ne...           Camera   \n",
       "3  Foscam FI8910W Wireless/Wired Pan & Tilt IP/Ne...           Camera   \n",
       "4  Foscam FI8910W Wireless/Wired Pan & Tilt IP/Ne...           Camera   \n",
       "5  Foscam FI8910W Wireless/Wired Pan & Tilt IP/Ne...           Camera   \n",
       "6  Foscam FI8910W Wireless/Wired Pan & Tilt IP/Ne...           Camera   \n",
       "7  Foscam FI8910W Wireless/Wired Pan & Tilt IP/Ne...           Camera   \n",
       "8  Foscam FI8910W Wireless/Wired Pan & Tilt IP/Ne...           Camera   \n",
       "9  Foscam FI8910W Wireless/Wired Pan & Tilt IP/Ne...           Camera   \n",
       "\n",
       "   star_rating  helpful_votes  total_votes vine verified_purchase  \\\n",
       "0            1              0            1    N                 Y   \n",
       "1            1              0            0    N                 N   \n",
       "2            1              0            0    N                 Y   \n",
       "3            5              0            0    N                 N   \n",
       "4            2              0            0    N                 N   \n",
       "5            1              0            0    N                 Y   \n",
       "6            1              0            0    N                 Y   \n",
       "7            3              0            0    N                 Y   \n",
       "8            5              0            1    N                 N   \n",
       "9            4              0            0    N                 Y   \n",
       "\n",
       "                                     review_headline  \\\n",
       "0                                           One Star   \n",
       "1                         Doesn't work as advertised   \n",
       "2                                           One Star   \n",
       "3  We love the camera but had a lot of difficulty...   \n",
       "4          Saved Grandma but camera died after 2 yrs   \n",
       "5                               get what you pay for   \n",
       "6                  Completely and totally unreliable   \n",
       "7                                        Three Stars   \n",
       "8  I'm not very camera smart, but this was the ea...   \n",
       "9                                         Four Stars   \n",
       "\n",
       "                                         review_body review_date  \n",
       "0                                            garbage  31-08-2015  \n",
       "1  Didn't work as advertised, there was no sound ...  31-08-2015  \n",
       "2     Setup way to complicated for the average user.  30-08-2015  \n",
       "3  We purchased a Foscam about 6 months ago. We l...  30-08-2015  \n",
       "4  Worked for 2 yrs as a 'granny cam' and saved h...  29-08-2015  \n",
       "5  I bought this with reading all these reviews,I...  28-08-2015  \n",
       "6  It's basically impossible to make this camera/...  27-08-2015  \n",
       "7                       AC Adapter died after 1 year  27-08-2015  \n",
       "8  Thank you John, for being so helpful in settin...  26-08-2015  \n",
       "9                                         works well  26-08-2015  "
      ]
     },
     "execution_count": 4,
     "metadata": {},
     "output_type": "execute_result"
    }
   ],
   "source": [
    "df.head(10)"
   ]
  },
  {
   "cell_type": "markdown",
   "id": "c2875d72",
   "metadata": {},
   "source": [
    "# EDA"
   ]
  },
  {
   "cell_type": "code",
   "execution_count": 7,
   "id": "1a3e5fa9",
   "metadata": {},
   "outputs": [
    {
     "data": {
      "text/plain": [
       "Index(['marketplace', 'customer_id', 'review_id', 'product_title',\n",
       "       'product_category', 'star_rating', 'helpful_votes', 'total_votes',\n",
       "       'vine', 'verified_purchase', 'review_headline', 'review_body',\n",
       "       'review_date'],\n",
       "      dtype='object')"
      ]
     },
     "execution_count": 7,
     "metadata": {},
     "output_type": "execute_result"
    }
   ],
   "source": [
    "df.columns"
   ]
  },
  {
   "cell_type": "code",
   "execution_count": 8,
   "id": "543ca2c6",
   "metadata": {},
   "outputs": [
    {
     "name": "stdout",
     "output_type": "stream",
     "text": [
      "<class 'pandas.core.frame.DataFrame'>\n",
      "RangeIndex: 4652 entries, 0 to 4651\n",
      "Data columns (total 13 columns):\n",
      " #   Column             Non-Null Count  Dtype \n",
      "---  ------             --------------  ----- \n",
      " 0   marketplace        4652 non-null   object\n",
      " 1   customer_id        4652 non-null   int64 \n",
      " 2   review_id          4652 non-null   object\n",
      " 3   product_title      4652 non-null   object\n",
      " 4   product_category   4652 non-null   object\n",
      " 5   star_rating        4652 non-null   int64 \n",
      " 6   helpful_votes      4652 non-null   int64 \n",
      " 7   total_votes        4652 non-null   int64 \n",
      " 8   vine               4652 non-null   object\n",
      " 9   verified_purchase  4652 non-null   object\n",
      " 10  review_headline    4652 non-null   object\n",
      " 11  review_body        4652 non-null   object\n",
      " 12  review_date        4652 non-null   object\n",
      "dtypes: int64(4), object(9)\n",
      "memory usage: 472.6+ KB\n"
     ]
    }
   ],
   "source": [
    "df.info()"
   ]
  },
  {
   "cell_type": "code",
   "execution_count": 9,
   "id": "f8470cb6",
   "metadata": {},
   "outputs": [
    {
     "data": {
      "text/plain": [
       "marketplace          0\n",
       "customer_id          0\n",
       "review_id            0\n",
       "product_title        0\n",
       "product_category     0\n",
       "star_rating          0\n",
       "helpful_votes        0\n",
       "total_votes          0\n",
       "vine                 0\n",
       "verified_purchase    0\n",
       "review_headline      0\n",
       "review_body          0\n",
       "review_date          0\n",
       "dtype: int64"
      ]
     },
     "execution_count": 9,
     "metadata": {},
     "output_type": "execute_result"
    }
   ],
   "source": [
    "df.isnull().sum()"
   ]
  },
  {
   "cell_type": "code",
   "execution_count": 11,
   "id": "c77d5176",
   "metadata": {},
   "outputs": [
    {
     "name": "stdout",
     "output_type": "stream",
     "text": [
      "The unique element in :  marketplace\n",
      "------------------------------\n",
      "['US']\n",
      "\n",
      "The unique element in :  product_category\n",
      "------------------------------\n",
      "['Camera']\n",
      "\n",
      "The unique element in :  verified_purchase\n",
      "------------------------------\n",
      "['Y' 'N']\n",
      "\n",
      "The unique element in :  vine\n",
      "------------------------------\n",
      "['N']\n",
      "\n",
      "The unique element in :  helpful_votes\n",
      "------------------------------\n",
      "[   0    1   11    2    6    8    5    4    3   17    7   13   15    9\n",
      "   19   10   12   25   16 2131   46   45   28   29   14  136   54   93\n",
      "   72  153  210   37 2071   77  114   35   50  119  132   34   20   87\n",
      "   53   43   18]\n",
      "\n",
      "The unique element in :  total_votes\n",
      "------------------------------\n",
      "[   1    0    2    3   13    8    9    4    5    6   18   16    7   15\n",
      "   19   10   11   32   20 2269   57   22   12   61   23   35   36   14\n",
      "   17  169   64  115   96   21  186  257   40 2198   91  143   38   60\n",
      "  151  162   24  103   69   25   30]\n",
      "\n"
     ]
    }
   ],
   "source": [
    "# Checking unique values in all features\n",
    "l=['marketplace','product_category','verified_purchase','vine','helpful_votes', 'total_votes']\n",
    "\n",
    "for i in l:\n",
    "  print('The unique element in : ', i)\n",
    "  print('-'*30)\n",
    "  print(df[i].unique())\n",
    "  print()"
   ]
  },
  {
   "cell_type": "code",
   "execution_count": 12,
   "id": "de59dc70",
   "metadata": {},
   "outputs": [
    {
     "name": "stdout",
     "output_type": "stream",
     "text": [
      "The unique element in :  product_category\n",
      "------------------------------\n",
      "Camera    4652\n",
      "Name: product_category, dtype: int64\n",
      "\n",
      "The unique element in :  verified_purchase\n",
      "------------------------------\n",
      "Y    3534\n",
      "N    1118\n",
      "Name: verified_purchase, dtype: int64\n",
      "\n",
      "The unique element in :  vine\n",
      "------------------------------\n",
      "N    4652\n",
      "Name: vine, dtype: int64\n",
      "\n",
      "The unique element in :  helpful_votes\n",
      "------------------------------\n",
      "0       3508\n",
      "1        740\n",
      "2        196\n",
      "3         63\n",
      "4         26\n",
      "6         18\n",
      "8         15\n",
      "5         15\n",
      "7         11\n",
      "9          6\n",
      "15         6\n",
      "12         3\n",
      "10         3\n",
      "28         3\n",
      "11         3\n",
      "13         3\n",
      "16         2\n",
      "50         2\n",
      "19         2\n",
      "17         2\n",
      "53         1\n",
      "87         1\n",
      "20         1\n",
      "2071       1\n",
      "34         1\n",
      "132        1\n",
      "119        1\n",
      "43         1\n",
      "35         1\n",
      "114        1\n",
      "77         1\n",
      "153        1\n",
      "37         1\n",
      "210        1\n",
      "72         1\n",
      "93         1\n",
      "54         1\n",
      "136        1\n",
      "14         1\n",
      "29         1\n",
      "45         1\n",
      "46         1\n",
      "2131       1\n",
      "25         1\n",
      "18         1\n",
      "Name: helpful_votes, dtype: int64\n",
      "\n",
      "The unique element in :  total_votes\n",
      "------------------------------\n",
      "0       2373\n",
      "1       1125\n",
      "2        598\n",
      "3        176\n",
      "4        170\n",
      "5         49\n",
      "6         34\n",
      "7         25\n",
      "8         15\n",
      "9         12\n",
      "10        10\n",
      "13         7\n",
      "21         4\n",
      "11         4\n",
      "38         3\n",
      "23         3\n",
      "19         3\n",
      "15         3\n",
      "12         2\n",
      "18         2\n",
      "60         2\n",
      "14         2\n",
      "35         2\n",
      "57         2\n",
      "20         2\n",
      "103        1\n",
      "69         1\n",
      "40         1\n",
      "24         1\n",
      "162        1\n",
      "151        1\n",
      "25         1\n",
      "143        1\n",
      "91         1\n",
      "2198       1\n",
      "96         1\n",
      "257        1\n",
      "186        1\n",
      "16         1\n",
      "32         1\n",
      "115        1\n",
      "64         1\n",
      "169        1\n",
      "17         1\n",
      "36         1\n",
      "61         1\n",
      "22         1\n",
      "2269       1\n",
      "30         1\n",
      "Name: total_votes, dtype: int64\n",
      "\n"
     ]
    }
   ],
   "source": [
    "# Frequency of values of different types in all features\n",
    "l=['product_category','verified_purchase','vine','helpful_votes', 'total_votes']\n",
    "\n",
    "for i in l:\n",
    "  print('The unique element in : ', i)\n",
    "  print('-'*30)\n",
    "  print(df[i].value_counts())\n",
    "  print()"
   ]
  },
  {
   "cell_type": "code",
   "execution_count": 13,
   "id": "a2e99c76",
   "metadata": {},
   "outputs": [
    {
     "name": "stdout",
     "output_type": "stream",
     "text": [
      "The count plot of  :  product_category\n",
      "------------------------------\n"
     ]
    },
    {
     "name": "stderr",
     "output_type": "stream",
     "text": [
      "C:\\ProgramData\\Anaconda3\\lib\\site-packages\\seaborn\\_decorators.py:36: FutureWarning: Pass the following variable as a keyword arg: x. From version 0.12, the only valid positional argument will be `data`, and passing other arguments without an explicit keyword will result in an error or misinterpretation.\n",
      "  warnings.warn(\n"
     ]
    },
    {
     "data": {
      "image/png": "[encoded data removed]",
      "text/plain": [
       "<Figure size 720x360 with 1 Axes>"
      ]
     },
     "metadata": {
      "needs_background": "light"
     },
     "output_type": "display_data"
    },
    {
     "name": "stdout",
     "output_type": "stream",
     "text": [
      "\n",
      "The count plot of  :  verified_purchase\n",
      "------------------------------\n"
     ]
    },
    {
     "name": "stderr",
     "output_type": "stream",
     "text": [
      "C:\\ProgramData\\Anaconda3\\lib\\site-packages\\seaborn\\_decorators.py:36: FutureWarning: Pass the following variable as a keyword arg: x. From version 0.12, the only valid positional argument will be `data`, and passing other arguments without an explicit keyword will result in an error or misinterpretation.\n",
      "  warnings.warn(\n"
     ]
    },
    {
     "data": {
      "image/png": "[encoded data removed]",
      "text/plain": [
       "<Figure size 720x360 with 1 Axes>"
      ]
     },
     "metadata": {
      "needs_background": "light"
     },
     "output_type": "display_data"
    },
    {
     "name": "stdout",
     "output_type": "stream",
     "text": [
      "\n",
      "The count plot of  :  vine\n",
      "------------------------------\n"
     ]
    },
    {
     "name": "stderr",
     "output_type": "stream",
     "text": [
      "C:\\ProgramData\\Anaconda3\\lib\\site-packages\\seaborn\\_decorators.py:36: FutureWarning: Pass the following variable as a keyword arg: x. From version 0.12, the only valid positional argument will be `data`, and passing other arguments without an explicit keyword will result in an error or misinterpretation.\n",
      "  warnings.warn(\n"
     ]
    },
    {
     "data": {
      "image/png": "[encoded data removed]",
      "text/plain": [
       "<Figure size 720x360 with 1 Axes>"
      ]
     },
     "metadata": {
      "needs_background": "light"
     },
     "output_type": "display_data"
    },
    {
     "name": "stdout",
     "output_type": "stream",
     "text": [
      "\n",
      "The count plot of  :  helpful_votes\n",
      "------------------------------\n"
     ]
    },
    {
     "name": "stderr",
     "output_type": "stream",
     "text": [
      "C:\\ProgramData\\Anaconda3\\lib\\site-packages\\seaborn\\_decorators.py:36: FutureWarning: Pass the following variable as a keyword arg: x. From version 0.12, the only valid positional argument will be `data`, and passing other arguments without an explicit keyword will result in an error or misinterpretation.\n",
      "  warnings.warn(\n"
     ]
    },
    {
     "data": {
      "image/png": "[encoded data removed]",
      "text/plain": [
       "<Figure size 720x360 with 1 Axes>"
      ]
     },
     "metadata": {
      "needs_background": "light"
     },
     "output_type": "display_data"
    },
    {
     "name": "stdout",
     "output_type": "stream",
     "text": [
      "\n",
      "The count plot of  :  total_votes\n",
      "------------------------------\n"
     ]
    },
    {
     "name": "stderr",
     "output_type": "stream",
     "text": [
      "C:\\ProgramData\\Anaconda3\\lib\\site-packages\\seaborn\\_decorators.py:36: FutureWarning: Pass the following variable as a keyword arg: x. From version 0.12, the only valid positional argument will be `data`, and passing other arguments without an explicit keyword will result in an error or misinterpretation.\n",
      "  warnings.warn(\n"
     ]
    },
    {
     "data": {
      "image/png": "[encoded data removed]",
      "text/plain": [
       "<Figure size 720x360 with 1 Axes>"
      ]
     },
     "metadata": {
      "needs_background": "light"
     },
     "output_type": "display_data"
    },
    {
     "name": "stdout",
     "output_type": "stream",
     "text": [
      "\n"
     ]
    }
   ],
   "source": [
    "# Plots to give visuals about frequency of values of all types in different features\n",
    "features = ['product_category','verified_purchase','vine','helpful_votes','total_votes']\n",
    "for i in features:\n",
    "  print('The count plot of  : ', i)\n",
    "  print('-'*30)\n",
    "  plt.figure(figsize=(10,5))\n",
    "  sns.countplot(df[i])\n",
    "  plt.show()\n",
    "  print()"
   ]
  },
  {
   "cell_type": "code",
   "execution_count": 14,
   "id": "9b630896",
   "metadata": {},
   "outputs": [
    {
     "data": {
      "text/plain": [
       "5    2570\n",
       "4     937\n",
       "1     556\n",
       "3     314\n",
       "2     275\n",
       "Name: star_rating, dtype: int64"
      ]
     },
     "execution_count": 14,
     "metadata": {},
     "output_type": "execute_result"
    }
   ],
   "source": [
    "# Value count of every rating type\n",
    "df.star_rating.value_counts()"
   ]
  },
  {
   "cell_type": "code",
   "execution_count": 15,
   "id": "e4ae6751",
   "metadata": {},
   "outputs": [
    {
     "data": {
      "text/plain": [
       "<AxesSubplot:xlabel='star_rating', ylabel='count'>"
      ]
     },
     "execution_count": 15,
     "metadata": {},
     "output_type": "execute_result"
    },
    {
     "data": {
      "text/plain": [
       "<Figure size 432x288 with 0 Axes>"
      ]
     },
     "metadata": {},
     "output_type": "display_data"
    },
    {
     "data": {
      "image/png": "[encoded data removed]",
      "text/plain": [
       "<Figure size 400x400 with 1 Axes>"
      ]
     },
     "metadata": {
      "needs_background": "light"
     },
     "output_type": "display_data"
    }
   ],
   "source": [
    "# Visualizing the value count of every rating type\n",
    "plt.figure()\n",
    "plt.figure(figsize=(4,4),dpi=100)\n",
    "sns.countplot(x='star_rating',data=df)"
   ]
  },
  {
   "cell_type": "code",
   "execution_count": 16,
   "id": "d846c61c",
   "metadata": {},
   "outputs": [
    {
     "name": "stdout",
     "output_type": "stream",
     "text": [
      "--------------------Percentage ratings--------------------\n"
     ]
    },
    {
     "data": {
      "text/plain": [
       "5    55.245056\n",
       "4    20.141874\n",
       "1    11.951849\n",
       "3     6.749785\n",
       "2     5.911436\n",
       "Name: star_rating, dtype: float64"
      ]
     },
     "execution_count": 16,
     "metadata": {},
     "output_type": "execute_result"
    }
   ],
   "source": [
    "# Percentage of every rating w.r.t all other ratings\n",
    "print('-' * 20 + \"Percentage ratings\" + '-' * 20)\n",
    "star_ratings = df['star_rating'].value_counts() / len(df) * 100\n",
    "star_ratings"
   ]
  },
  {
   "cell_type": "code",
   "execution_count": 17,
   "id": "7b311570",
   "metadata": {},
   "outputs": [
    {
     "name": "stderr",
     "output_type": "stream",
     "text": [
      "C:\\ProgramData\\Anaconda3\\lib\\site-packages\\seaborn\\_decorators.py:36: FutureWarning: Pass the following variables as keyword args: x, y. From version 0.12, the only valid positional argument will be `data`, and passing other arguments without an explicit keyword will result in an error or misinterpretation.\n",
      "  warnings.warn(\n"
     ]
    },
    {
     "data": {
      "text/plain": [
       "Text(0.5, 0, 'Rating')"
      ]
     },
     "execution_count": 17,
     "metadata": {},
     "output_type": "execute_result"
    },
    {
     "data": {
      "image/png": "[encoded data removed]",
      "text/plain": [
       "<Figure size 432x288 with 1 Axes>"
      ]
     },
     "metadata": {
      "needs_background": "light"
     },
     "output_type": "display_data"
    }
   ],
   "source": [
    "# Visualization of percentage of every rarting type\n",
    "plt.figure()\n",
    "sns.barplot(star_ratings.index, star_ratings.values, order=star_ratings.index)\n",
    "plt.ylabel(\"Percentage\")\n",
    "plt.xlabel('Rating')"
   ]
  },
  {
   "cell_type": "code",
   "execution_count": 18,
   "id": "49145d65",
   "metadata": {},
   "outputs": [],
   "source": [
    "df = df[df['star_rating'] != 3]"
   ]
  },
  {
   "cell_type": "code",
   "execution_count": 19,
   "id": "ea77cf27",
   "metadata": {},
   "outputs": [
    {
     "data": {
      "text/plain": [
       "1    3507\n",
       "0     831\n",
       "Name: rating, dtype: int64"
      ]
     },
     "execution_count": 19,
     "metadata": {},
     "output_type": "execute_result"
    }
   ],
   "source": [
    "df['rating'] = df['star_rating'].apply(lambda x: 1 if x >= 4 else 0)\n",
    "df['rating'].value_counts()"
   ]
  },
  {
   "cell_type": "code",
   "execution_count": 20,
   "id": "b89f31aa",
   "metadata": {},
   "outputs": [
    {
     "data": {
      "text/plain": [
       "Text(0.5, 0, 'Rating')"
      ]
     },
     "execution_count": 20,
     "metadata": {},
     "output_type": "execute_result"
    },
    {
     "data": {
      "image/png": "[encoded data removed]",
      "text/plain": [
       "<Figure size 432x288 with 1 Axes>"
      ]
     },
     "metadata": {
      "needs_background": "light"
     },
     "output_type": "display_data"
    }
   ],
   "source": [
    "# Value count of positive and negative classes\n",
    "plt.figure()\n",
    "sns.countplot(x = 'rating', data = df, palette='rainbow')\n",
    "plt.ylabel(\"Ratings count\")\n",
    "plt.xlabel(\"Rating\")"
   ]
  },
  {
   "cell_type": "code",
   "execution_count": 21,
   "id": "5b344c6f",
   "metadata": {},
   "outputs": [
    {
     "data": {
      "text/html": [
       "<div>\n",
       "<style scoped>\n",
       "    .dataframe tbody tr th:only-of-type {\n",
       "        vertical-align: middle;\n",
       "    }\n",
       "\n",
       "    .dataframe tbody tr th {\n",
       "        vertical-align: top;\n",
       "    }\n",
       "\n",
       "    .dataframe thead th {\n",
       "        text-align: right;\n",
       "    }\n",
       "</style>\n",
       "<table border=\"1\" class=\"dataframe\">\n",
       "  <thead>\n",
       "    <tr style=\"text-align: right;\">\n",
       "      <th></th>\n",
       "      <th>marketplace</th>\n",
       "      <th>customer_id</th>\n",
       "      <th>review_id</th>\n",
       "      <th>product_title</th>\n",
       "      <th>product_category</th>\n",
       "      <th>star_rating</th>\n",
       "      <th>helpful_votes</th>\n",
       "      <th>total_votes</th>\n",
       "      <th>vine</th>\n",
       "      <th>verified_purchase</th>\n",
       "      <th>review_headline</th>\n",
       "      <th>review_body</th>\n",
       "      <th>review_date</th>\n",
       "      <th>rating</th>\n",
       "      <th>reviews</th>\n",
       "    </tr>\n",
       "  </thead>\n",
       "  <tbody>\n",
       "    <tr>\n",
       "      <th>0</th>\n",
       "      <td>US</td>\n",
       "      <td>41099022</td>\n",
       "      <td>R59VGL4HIPFDP</td>\n",
       "      <td>Foscam FI8910W Wireless/Wired Pan &amp; Tilt IP/Ne...</td>\n",
       "      <td>Camera</td>\n",
       "      <td>1</td>\n",
       "      <td>0</td>\n",
       "      <td>1</td>\n",
       "      <td>N</td>\n",
       "      <td>Y</td>\n",
       "      <td>One Star</td>\n",
       "      <td>garbage</td>\n",
       "      <td>31-08-2015</td>\n",
       "      <td>0</td>\n",
       "      <td>garbage One Star</td>\n",
       "    </tr>\n",
       "    <tr>\n",
       "      <th>1</th>\n",
       "      <td>US</td>\n",
       "      <td>15744366</td>\n",
       "      <td>R3GR0Z9Z4Z1295</td>\n",
       "      <td>Foscam FI8910W Wireless/Wired Pan &amp; Tilt IP/Ne...</td>\n",
       "      <td>Camera</td>\n",
       "      <td>1</td>\n",
       "      <td>0</td>\n",
       "      <td>0</td>\n",
       "      <td>N</td>\n",
       "      <td>N</td>\n",
       "      <td>Doesn't work as advertised</td>\n",
       "      <td>Didn't work as advertised, there was no sound ...</td>\n",
       "      <td>31-08-2015</td>\n",
       "      <td>0</td>\n",
       "      <td>Didn't work as advertised, there was no sound ...</td>\n",
       "    </tr>\n",
       "    <tr>\n",
       "      <th>2</th>\n",
       "      <td>US</td>\n",
       "      <td>46165193</td>\n",
       "      <td>R8R09HXXQHIWN</td>\n",
       "      <td>Foscam FI8910W Wireless/Wired Pan &amp; Tilt IP/Ne...</td>\n",
       "      <td>Camera</td>\n",
       "      <td>1</td>\n",
       "      <td>0</td>\n",
       "      <td>0</td>\n",
       "      <td>N</td>\n",
       "      <td>Y</td>\n",
       "      <td>One Star</td>\n",
       "      <td>Setup way to complicated for the average user.</td>\n",
       "      <td>30-08-2015</td>\n",
       "      <td>0</td>\n",
       "      <td>Setup way to complicated for the average user....</td>\n",
       "    </tr>\n",
       "    <tr>\n",
       "      <th>3</th>\n",
       "      <td>US</td>\n",
       "      <td>31009192</td>\n",
       "      <td>R19JT1LFVNATBG</td>\n",
       "      <td>Foscam FI8910W Wireless/Wired Pan &amp; Tilt IP/Ne...</td>\n",
       "      <td>Camera</td>\n",
       "      <td>5</td>\n",
       "      <td>0</td>\n",
       "      <td>0</td>\n",
       "      <td>N</td>\n",
       "      <td>N</td>\n",
       "      <td>We love the camera but had a lot of difficulty...</td>\n",
       "      <td>We purchased a Foscam about 6 months ago. We l...</td>\n",
       "      <td>30-08-2015</td>\n",
       "      <td>1</td>\n",
       "      <td>We purchased a Foscam about 6 months ago. We l...</td>\n",
       "    </tr>\n",
       "    <tr>\n",
       "      <th>4</th>\n",
       "      <td>US</td>\n",
       "      <td>52865176</td>\n",
       "      <td>R2SCARC7V2J64P</td>\n",
       "      <td>Foscam FI8910W Wireless/Wired Pan &amp; Tilt IP/Ne...</td>\n",
       "      <td>Camera</td>\n",
       "      <td>2</td>\n",
       "      <td>0</td>\n",
       "      <td>0</td>\n",
       "      <td>N</td>\n",
       "      <td>N</td>\n",
       "      <td>Saved Grandma but camera died after 2 yrs</td>\n",
       "      <td>Worked for 2 yrs as a 'granny cam' and saved h...</td>\n",
       "      <td>29-08-2015</td>\n",
       "      <td>0</td>\n",
       "      <td>Worked for 2 yrs as a 'granny cam' and saved h...</td>\n",
       "    </tr>\n",
       "    <tr>\n",
       "      <th>5</th>\n",
       "      <td>US</td>\n",
       "      <td>3282316</td>\n",
       "      <td>R10WZ8I85SRCMK</td>\n",
       "      <td>Foscam FI8910W Wireless/Wired Pan &amp; Tilt IP/Ne...</td>\n",
       "      <td>Camera</td>\n",
       "      <td>1</td>\n",
       "      <td>0</td>\n",
       "      <td>0</td>\n",
       "      <td>N</td>\n",
       "      <td>Y</td>\n",
       "      <td>get what you pay for</td>\n",
       "      <td>I bought this with reading all these reviews,I...</td>\n",
       "      <td>28-08-2015</td>\n",
       "      <td>0</td>\n",
       "      <td>I bought this with reading all these reviews,I...</td>\n",
       "    </tr>\n",
       "    <tr>\n",
       "      <th>6</th>\n",
       "      <td>US</td>\n",
       "      <td>14005127</td>\n",
       "      <td>RN51K25SFP9LC</td>\n",
       "      <td>Foscam FI8910W Wireless/Wired Pan &amp; Tilt IP/Ne...</td>\n",
       "      <td>Camera</td>\n",
       "      <td>1</td>\n",
       "      <td>0</td>\n",
       "      <td>0</td>\n",
       "      <td>N</td>\n",
       "      <td>Y</td>\n",
       "      <td>Completely and totally unreliable</td>\n",
       "      <td>It's basically impossible to make this camera/...</td>\n",
       "      <td>27-08-2015</td>\n",
       "      <td>0</td>\n",
       "      <td>It's basically impossible to make this camera/...</td>\n",
       "    </tr>\n",
       "    <tr>\n",
       "      <th>8</th>\n",
       "      <td>US</td>\n",
       "      <td>48954925</td>\n",
       "      <td>R2J7XTAUP2H3XZ</td>\n",
       "      <td>Foscam FI8910W Wireless/Wired Pan &amp; Tilt IP/Ne...</td>\n",
       "      <td>Camera</td>\n",
       "      <td>5</td>\n",
       "      <td>0</td>\n",
       "      <td>1</td>\n",
       "      <td>N</td>\n",
       "      <td>N</td>\n",
       "      <td>I'm not very camera smart, but this was the ea...</td>\n",
       "      <td>Thank you John, for being so helpful in settin...</td>\n",
       "      <td>26-08-2015</td>\n",
       "      <td>1</td>\n",
       "      <td>Thank you John, for being so helpful in settin...</td>\n",
       "    </tr>\n",
       "    <tr>\n",
       "      <th>9</th>\n",
       "      <td>US</td>\n",
       "      <td>14455954</td>\n",
       "      <td>R2P8V1C2RGDMSB</td>\n",
       "      <td>Foscam FI8910W Wireless/Wired Pan &amp; Tilt IP/Ne...</td>\n",
       "      <td>Camera</td>\n",
       "      <td>4</td>\n",
       "      <td>0</td>\n",
       "      <td>0</td>\n",
       "      <td>N</td>\n",
       "      <td>Y</td>\n",
       "      <td>Four Stars</td>\n",
       "      <td>works well</td>\n",
       "      <td>26-08-2015</td>\n",
       "      <td>1</td>\n",
       "      <td>works well Four Stars</td>\n",
       "    </tr>\n",
       "    <tr>\n",
       "      <th>10</th>\n",
       "      <td>US</td>\n",
       "      <td>28399081</td>\n",
       "      <td>R3ESO8PQNRXIEK</td>\n",
       "      <td>Foscam FI8910W Wireless/Wired Pan &amp; Tilt IP/Ne...</td>\n",
       "      <td>Camera</td>\n",
       "      <td>1</td>\n",
       "      <td>0</td>\n",
       "      <td>0</td>\n",
       "      <td>N</td>\n",
       "      <td>Y</td>\n",
       "      <td>Wakes your kids up at night with loud clicking...</td>\n",
       "      <td>Video is ok, set up is rather easy although no...</td>\n",
       "      <td>26-08-2015</td>\n",
       "      <td>0</td>\n",
       "      <td>Video is ok, set up is rather easy although no...</td>\n",
       "    </tr>\n",
       "  </tbody>\n",
       "</table>\n",
       "</div>"
      ],
      "text/plain": [
       "   marketplace  customer_id       review_id  \\\n",
       "0           US     41099022   R59VGL4HIPFDP   \n",
       "1           US     15744366  R3GR0Z9Z4Z1295   \n",
       "2           US     46165193   R8R09HXXQHIWN   \n",
       "3           US     31009192  R19JT1LFVNATBG   \n",
       "4           US     52865176  R2SCARC7V2J64P   \n",
       "5           US      3282316  R10WZ8I85SRCMK   \n",
       "6           US     14005127   RN51K25SFP9LC   \n",
       "8           US     48954925  R2J7XTAUP2H3XZ   \n",
       "9           US     14455954  R2P8V1C2RGDMSB   \n",
       "10          US     28399081  R3ESO8PQNRXIEK   \n",
       "\n",
       "                                        product_title product_category  \\\n",
       "0   Foscam FI8910W Wireless/Wired Pan & Tilt IP/Ne...           Camera   \n",
       "1   Foscam FI8910W Wireless/Wired Pan & Tilt IP/Ne...           Camera   \n",
       "2   Foscam FI8910W Wireless/Wired Pan & Tilt IP/Ne...           Camera   \n",
       "3   Foscam FI8910W Wireless/Wired Pan & Tilt IP/Ne...           Camera   \n",
       "4   Foscam FI8910W Wireless/Wired Pan & Tilt IP/Ne...           Camera   \n",
       "5   Foscam FI8910W Wireless/Wired Pan & Tilt IP/Ne...           Camera   \n",
       "6   Foscam FI8910W Wireless/Wired Pan & Tilt IP/Ne...           Camera   \n",
       "8   Foscam FI8910W Wireless/Wired Pan & Tilt IP/Ne...           Camera   \n",
       "9   Foscam FI8910W Wireless/Wired Pan & Tilt IP/Ne...           Camera   \n",
       "10  Foscam FI8910W Wireless/Wired Pan & Tilt IP/Ne...           Camera   \n",
       "\n",
       "    star_rating  helpful_votes  total_votes vine verified_purchase  \\\n",
       "0             1              0            1    N                 Y   \n",
       "1             1              0            0    N                 N   \n",
       "2             1              0            0    N                 Y   \n",
       "3             5              0            0    N                 N   \n",
       "4             2              0            0    N                 N   \n",
       "5             1              0            0    N                 Y   \n",
       "6             1              0            0    N                 Y   \n",
       "8             5              0            1    N                 N   \n",
       "9             4              0            0    N                 Y   \n",
       "10            1              0            0    N                 Y   \n",
       "\n",
       "                                      review_headline  \\\n",
       "0                                            One Star   \n",
       "1                          Doesn't work as advertised   \n",
       "2                                            One Star   \n",
       "3   We love the camera but had a lot of difficulty...   \n",
       "4           Saved Grandma but camera died after 2 yrs   \n",
       "5                                get what you pay for   \n",
       "6                   Completely and totally unreliable   \n",
       "8   I'm not very camera smart, but this was the ea...   \n",
       "9                                          Four Stars   \n",
       "10  Wakes your kids up at night with loud clicking...   \n",
       "\n",
       "                                          review_body review_date  rating  \\\n",
       "0                                             garbage  31-08-2015       0   \n",
       "1   Didn't work as advertised, there was no sound ...  31-08-2015       0   \n",
       "2      Setup way to complicated for the average user.  30-08-2015       0   \n",
       "3   We purchased a Foscam about 6 months ago. We l...  30-08-2015       1   \n",
       "4   Worked for 2 yrs as a 'granny cam' and saved h...  29-08-2015       0   \n",
       "5   I bought this with reading all these reviews,I...  28-08-2015       0   \n",
       "6   It's basically impossible to make this camera/...  27-08-2015       0   \n",
       "8   Thank you John, for being so helpful in settin...  26-08-2015       1   \n",
       "9                                          works well  26-08-2015       1   \n",
       "10  Video is ok, set up is rather easy although no...  26-08-2015       0   \n",
       "\n",
       "                                              reviews  \n",
       "0                                    garbage One Star  \n",
       "1   Didn't work as advertised, there was no sound ...  \n",
       "2   Setup way to complicated for the average user....  \n",
       "3   We purchased a Foscam about 6 months ago. We l...  \n",
       "4   Worked for 2 yrs as a 'granny cam' and saved h...  \n",
       "5   I bought this with reading all these reviews,I...  \n",
       "6   It's basically impossible to make this camera/...  \n",
       "8   Thank you John, for being so helpful in settin...  \n",
       "9                               works well Four Stars  \n",
       "10  Video is ok, set up is rather easy although no...  "
      ]
     },
     "execution_count": 21,
     "metadata": {},
     "output_type": "execute_result"
    }
   ],
   "source": [
    "df['reviews'] = df['review_body'] + \" \" + df['review_headline']\n",
    "df.head(10)"
   ]
  },
  {
   "cell_type": "code",
   "execution_count": 22,
   "id": "b4f53ed6",
   "metadata": {},
   "outputs": [
    {
     "data": {
      "text/html": [
       "<div>\n",
       "<style scoped>\n",
       "    .dataframe tbody tr th:only-of-type {\n",
       "        vertical-align: middle;\n",
       "    }\n",
       "\n",
       "    .dataframe tbody tr th {\n",
       "        vertical-align: top;\n",
       "    }\n",
       "\n",
       "    .dataframe thead th {\n",
       "        text-align: right;\n",
       "    }\n",
       "</style>\n",
       "<table border=\"1\" class=\"dataframe\">\n",
       "  <thead>\n",
       "    <tr style=\"text-align: right;\">\n",
       "      <th></th>\n",
       "      <th>rating</th>\n",
       "      <th>reviews</th>\n",
       "    </tr>\n",
       "  </thead>\n",
       "  <tbody>\n",
       "    <tr>\n",
       "      <th>0</th>\n",
       "      <td>0</td>\n",
       "      <td>garbage One Star</td>\n",
       "    </tr>\n",
       "    <tr>\n",
       "      <th>1</th>\n",
       "      <td>0</td>\n",
       "      <td>Didn't work as advertised, there was no sound ...</td>\n",
       "    </tr>\n",
       "    <tr>\n",
       "      <th>2</th>\n",
       "      <td>0</td>\n",
       "      <td>Setup way to complicated for the average user....</td>\n",
       "    </tr>\n",
       "    <tr>\n",
       "      <th>3</th>\n",
       "      <td>1</td>\n",
       "      <td>We purchased a Foscam about 6 months ago. We l...</td>\n",
       "    </tr>\n",
       "    <tr>\n",
       "      <th>4</th>\n",
       "      <td>0</td>\n",
       "      <td>Worked for 2 yrs as a 'granny cam' and saved h...</td>\n",
       "    </tr>\n",
       "    <tr>\n",
       "      <th>5</th>\n",
       "      <td>0</td>\n",
       "      <td>I bought this with reading all these reviews,I...</td>\n",
       "    </tr>\n",
       "    <tr>\n",
       "      <th>6</th>\n",
       "      <td>0</td>\n",
       "      <td>It's basically impossible to make this camera/...</td>\n",
       "    </tr>\n",
       "    <tr>\n",
       "      <th>8</th>\n",
       "      <td>1</td>\n",
       "      <td>Thank you John, for being so helpful in settin...</td>\n",
       "    </tr>\n",
       "    <tr>\n",
       "      <th>9</th>\n",
       "      <td>1</td>\n",
       "      <td>works well Four Stars</td>\n",
       "    </tr>\n",
       "    <tr>\n",
       "      <th>10</th>\n",
       "      <td>0</td>\n",
       "      <td>Video is ok, set up is rather easy although no...</td>\n",
       "    </tr>\n",
       "  </tbody>\n",
       "</table>\n",
       "</div>"
      ],
      "text/plain": [
       "    rating                                            reviews\n",
       "0        0                                   garbage One Star\n",
       "1        0  Didn't work as advertised, there was no sound ...\n",
       "2        0  Setup way to complicated for the average user....\n",
       "3        1  We purchased a Foscam about 6 months ago. We l...\n",
       "4        0  Worked for 2 yrs as a 'granny cam' and saved h...\n",
       "5        0  I bought this with reading all these reviews,I...\n",
       "6        0  It's basically impossible to make this camera/...\n",
       "8        1  Thank you John, for being so helpful in settin...\n",
       "9        1                              works well Four Stars\n",
       "10       0  Video is ok, set up is rather easy although no..."
      ]
     },
     "execution_count": 22,
     "metadata": {},
     "output_type": "execute_result"
    }
   ],
   "source": [
    "df_new = df[['rating','reviews']]\n",
    "df_new.head(10)"
   ]
  },
  {
   "cell_type": "code",
   "execution_count": 23,
   "id": "279c4b8f",
   "metadata": {},
   "outputs": [
    {
     "name": "stderr",
     "output_type": "stream",
     "text": [
      "[nltk_data] Downloading package stopwords to C:\\Users\\Ayush\n",
      "[nltk_data]     shukla\\AppData\\Roaming\\nltk_data...\n",
      "[nltk_data]   Package stopwords is already up-to-date!\n",
      "[nltk_data] Downloading package wordnet to C:\\Users\\Ayush\n",
      "[nltk_data]     shukla\\AppData\\Roaming\\nltk_data...\n",
      "[nltk_data]   Package wordnet is already up-to-date!\n",
      "C:\\Users\\AYUSHS~1\\AppData\\Local\\Temp/ipykernel_12748/299126684.py:6: SettingWithCopyWarning: \n",
      "A value is trying to be set on a copy of a slice from a DataFrame.\n",
      "Try using .loc[row_indexer,col_indexer] = value instead\n",
      "\n",
      "See the caveats in the documentation: https://pandas.pydata.org/pandas-docs/stable/user_guide/indexing.html#returning-a-view-versus-a-copy\n",
      "  df_new['reviews'] = df_new['reviews'].apply(lambda sentence: sentence.lower())\n"
     ]
    },
    {
     "data": {
      "text/html": [
       "<div>\n",
       "<style scoped>\n",
       "    .dataframe tbody tr th:only-of-type {\n",
       "        vertical-align: middle;\n",
       "    }\n",
       "\n",
       "    .dataframe tbody tr th {\n",
       "        vertical-align: top;\n",
       "    }\n",
       "\n",
       "    .dataframe thead th {\n",
       "        text-align: right;\n",
       "    }\n",
       "</style>\n",
       "<table border=\"1\" class=\"dataframe\">\n",
       "  <thead>\n",
       "    <tr style=\"text-align: right;\">\n",
       "      <th></th>\n",
       "      <th>rating</th>\n",
       "      <th>reviews</th>\n",
       "    </tr>\n",
       "  </thead>\n",
       "  <tbody>\n",
       "    <tr>\n",
       "      <th>0</th>\n",
       "      <td>0</td>\n",
       "      <td>garbage one star</td>\n",
       "    </tr>\n",
       "    <tr>\n",
       "      <th>1</th>\n",
       "      <td>0</td>\n",
       "      <td>didn't work as advertised, there was no sound ...</td>\n",
       "    </tr>\n",
       "    <tr>\n",
       "      <th>2</th>\n",
       "      <td>0</td>\n",
       "      <td>setup way to complicated for the average user....</td>\n",
       "    </tr>\n",
       "    <tr>\n",
       "      <th>3</th>\n",
       "      <td>1</td>\n",
       "      <td>we purchased a foscam about 6 months ago. we l...</td>\n",
       "    </tr>\n",
       "    <tr>\n",
       "      <th>4</th>\n",
       "      <td>0</td>\n",
       "      <td>worked for 2 yrs as a 'granny cam' and saved h...</td>\n",
       "    </tr>\n",
       "    <tr>\n",
       "      <th>5</th>\n",
       "      <td>0</td>\n",
       "      <td>i bought this with reading all these reviews,i...</td>\n",
       "    </tr>\n",
       "    <tr>\n",
       "      <th>6</th>\n",
       "      <td>0</td>\n",
       "      <td>it's basically impossible to make this camera/...</td>\n",
       "    </tr>\n",
       "    <tr>\n",
       "      <th>8</th>\n",
       "      <td>1</td>\n",
       "      <td>thank you john, for being so helpful in settin...</td>\n",
       "    </tr>\n",
       "    <tr>\n",
       "      <th>9</th>\n",
       "      <td>1</td>\n",
       "      <td>works well four stars</td>\n",
       "    </tr>\n",
       "    <tr>\n",
       "      <th>10</th>\n",
       "      <td>0</td>\n",
       "      <td>video is ok, set up is rather easy although no...</td>\n",
       "    </tr>\n",
       "  </tbody>\n",
       "</table>\n",
       "</div>"
      ],
      "text/plain": [
       "    rating                                            reviews\n",
       "0        0                                   garbage one star\n",
       "1        0  didn't work as advertised, there was no sound ...\n",
       "2        0  setup way to complicated for the average user....\n",
       "3        1  we purchased a foscam about 6 months ago. we l...\n",
       "4        0  worked for 2 yrs as a 'granny cam' and saved h...\n",
       "5        0  i bought this with reading all these reviews,i...\n",
       "6        0  it's basically impossible to make this camera/...\n",
       "8        1  thank you john, for being so helpful in settin...\n",
       "9        1                              works well four stars\n",
       "10       0  video is ok, set up is rather easy although no..."
      ]
     },
     "execution_count": 23,
     "metadata": {},
     "output_type": "execute_result"
    }
   ],
   "source": [
    "# Initializing WordNet and stopwords on nlp model\n",
    "lemmitizer = WordNetLemmatizer()\n",
    "nltk.download('stopwords')\n",
    "nltk.download('wordnet')\n",
    "\n",
    "df_new['reviews'] = df_new['reviews'].apply(lambda sentence: sentence.lower())\n",
    "df_new.head(10)"
   ]
  },
  {
   "cell_type": "code",
   "execution_count": 24,
   "id": "45ef2cf3",
   "metadata": {},
   "outputs": [],
   "source": [
    "# Compiling emoji patterns using regular expressions\n",
    "emoji_pattern = re.compile(\"[\"\n",
    "                           u\"\\U0001F600-\\U0001F64F\"  # emoticons\n",
    "                           u\"\\U0001F300-\\U0001F5FF\"  # symbols & pictographs\n",
    "                           u\"\\U0001F680-\\U0001F6FF\"  # transport & map symbols\n",
    "                           u\"\\U0001F1E0-\\U0001F1FF\"  # flags \n",
    "                           u\"\\U00002702-\\U000027B0\"\n",
    "                           u\"\\U000024C2-\\U0001F251\"\n",
    "                           \"]+\", flags=re.UNICODE)"
   ]
  },
  {
   "cell_type": "code",
   "execution_count": 25,
   "id": "f5e0481a",
   "metadata": {},
   "outputs": [],
   "source": [
    "# Replacing the decontracted words with their original form\n",
    "def decontracting_words(sentence):\n",
    "    # specific\n",
    "    sentence = re.sub(r\"won\\'t\", \"will not\", sentence)\n",
    "    sentence = re.sub(r\"can\\'t\", \"can not\", sentence)\n",
    "\n",
    "    # general\n",
    "    sentence = re.sub(r\"n\\'t\", \" not\", sentence)\n",
    "    sentence = re.sub(r\"\\'re\", \" are\", sentence)\n",
    "    sentence = re.sub(r\"\\'s\", \" is\", sentence)\n",
    "    sentence = re.sub(r\"\\'d\", \" would\", sentence)\n",
    "    sentence = re.sub(r\"\\'ll\", \" will\", sentence)\n",
    "    sentence = re.sub(r\"\\'t\", \" not\", sentence)\n",
    "    sentence = re.sub(r\"\\'ve\", \" have\", sentence)\n",
    "    sentence = re.sub(r\"\\'m\", \" am\", sentence)\n",
    "    return sentence"
   ]
  },
  {
   "cell_type": "code",
   "execution_count": 26,
   "id": "bcba5d25",
   "metadata": {
    "scrolled": true
   },
   "outputs": [],
   "source": [
    "# Removing HTML, XML, emoticons and decontracting words\n",
    "stopwrds = stopwords.words('english')\n",
    "def remove_html_urls_emoticons(sentence):\n",
    "    # Remove HTML, XML tags from data \n",
    "    sentence = BeautifulSoup(sentence, 'lxml').get_text()\n",
    "    # Remove URLs from the data \n",
    "    sentence = re.sub(\"http\\S+\", \"\", sentence)\n",
    "    # Decontract words\n",
    "    sentence = decontracting_words(sentence)\n",
    "    # Removing emoticons\n",
    "    sentence = emoji_pattern.sub(' ', sentence)\n",
    "    return sentence"
   ]
  },
  {
   "cell_type": "code",
   "execution_count": 27,
   "id": "87a16287",
   "metadata": {},
   "outputs": [],
   "source": [
    "# Removing words with digits in them and punctuations\n",
    "def remove_numeric_punctuations_stopwords(sentence):\n",
    "    # Remove words with numbers in them from the data\n",
    "    sentence = re.sub(r\"\\S*\\d\\S*\", \"\", sentence)\n",
    "    # remove punctuations, numbers\n",
    "    sentence = re.sub(r\"[^A-Za-z]\", ' ', sentence)\n",
    "    # Remove stopwords\n",
    "    sentence = \" \".join([word for word in sentence.split() if word not in stopwrds])\n",
    "    return sentence"
   ]
  },
  {
   "cell_type": "code",
   "execution_count": 28,
   "id": "30be633e",
   "metadata": {},
   "outputs": [
    {
     "name": "stderr",
     "output_type": "stream",
     "text": [
      "C:\\Users\\AYUSHS~1\\AppData\\Local\\Temp/ipykernel_12748/1198475408.py:1: SettingWithCopyWarning: \n",
      "A value is trying to be set on a copy of a slice from a DataFrame.\n",
      "Try using .loc[row_indexer,col_indexer] = value instead\n",
      "\n",
      "See the caveats in the documentation: https://pandas.pydata.org/pandas-docs/stable/user_guide/indexing.html#returning-a-view-versus-a-copy\n",
      "  df_new['reviews'] = df_new['reviews'].apply(remove_html_urls_emoticons)\n",
      "C:\\Users\\AYUSHS~1\\AppData\\Local\\Temp/ipykernel_12748/1198475408.py:2: SettingWithCopyWarning: \n",
      "A value is trying to be set on a copy of a slice from a DataFrame.\n",
      "Try using .loc[row_indexer,col_indexer] = value instead\n",
      "\n",
      "See the caveats in the documentation: https://pandas.pydata.org/pandas-docs/stable/user_guide/indexing.html#returning-a-view-versus-a-copy\n",
      "  df_new['reviews'] = df_new['reviews'].apply(remove_numeric_punctuations_stopwords)\n"
     ]
    }
   ],
   "source": [
    "df_new['reviews'] = df_new['reviews'].apply(remove_html_urls_emoticons)\n",
    "df_new['reviews'] = df_new['reviews'].apply(remove_numeric_punctuations_stopwords)"
   ]
  },
  {
   "cell_type": "code",
   "execution_count": 29,
   "id": "29a9de99",
   "metadata": {},
   "outputs": [
    {
     "name": "stderr",
     "output_type": "stream",
     "text": [
      "C:\\Users\\AYUSHS~1\\AppData\\Local\\Temp/ipykernel_12748/1577154449.py:2: SettingWithCopyWarning: \n",
      "A value is trying to be set on a copy of a slice from a DataFrame.\n",
      "Try using .loc[row_indexer,col_indexer] = value instead\n",
      "\n",
      "See the caveats in the documentation: https://pandas.pydata.org/pandas-docs/stable/user_guide/indexing.html#returning-a-view-versus-a-copy\n",
      "  df_new['reviews'] = df_new['reviews'].apply(lambda x: \" \".join([lemmitizer.lemmatize(token) for token in x.split()]))\n"
     ]
    }
   ],
   "source": [
    "# Lemmatizing the words\n",
    "df_new['reviews'] = df_new['reviews'].apply(lambda x: \" \".join([lemmitizer.lemmatize(token) for token in x.split()]))"
   ]
  },
  {
   "cell_type": "code",
   "execution_count": 30,
   "id": "d5e4bfb4",
   "metadata": {},
   "outputs": [
    {
     "ename": "ModuleNotFoundError",
     "evalue": "No module named 'wordcloud'",
     "output_type": "error",
     "traceback": [
      "\u001b[1;31m---------------------------------------------------------------------------\u001b[0m",
      "\u001b[1;31mModuleNotFoundError\u001b[0m                       Traceback (most recent call last)",
      "\u001b[1;32mC:\\Users\\AYUSHS~1\\AppData\\Local\\Temp/ipykernel_12748/1517801963.py\u001b[0m in \u001b[0;36m<module>\u001b[1;34m\u001b[0m\n\u001b[0;32m      1\u001b[0m \u001b[1;31m# Maing word cloud of most popular words\u001b[0m\u001b[1;33m\u001b[0m\u001b[1;33m\u001b[0m\u001b[0m\n\u001b[1;32m----> 2\u001b[1;33m \u001b[1;32mfrom\u001b[0m \u001b[0mwordcloud\u001b[0m \u001b[1;32mimport\u001b[0m \u001b[0mWordCloud\u001b[0m\u001b[1;33m\u001b[0m\u001b[1;33m\u001b[0m\u001b[0m\n\u001b[0m\u001b[0;32m      3\u001b[0m \u001b[1;33m\u001b[0m\u001b[0m\n\u001b[0;32m      4\u001b[0m \u001b[1;32mfor\u001b[0m \u001b[0mi\u001b[0m \u001b[1;32min\u001b[0m \u001b[0mrange\u001b[0m \u001b[1;33m(\u001b[0m\u001b[1;36m0\u001b[0m\u001b[1;33m,\u001b[0m\u001b[1;36m2\u001b[0m\u001b[1;33m)\u001b[0m\u001b[1;33m:\u001b[0m\u001b[1;33m\u001b[0m\u001b[1;33m\u001b[0m\u001b[0m\n\u001b[0;32m      5\u001b[0m   \u001b[0mprint\u001b[0m\u001b[1;33m(\u001b[0m\u001b[1;34m'When star Rating is : '\u001b[0m\u001b[1;33m,\u001b[0m \u001b[0mi\u001b[0m\u001b[1;33m)\u001b[0m\u001b[1;33m\u001b[0m\u001b[1;33m\u001b[0m\u001b[0m\n",
      "\u001b[1;31mModuleNotFoundError\u001b[0m: No module named 'wordcloud'"
     ]
    }
   ],
   "source": [
    "# Maing word cloud of most popular words\n",
    "from wordcloud import WordCloud\n",
    "\n",
    "for i in range (0,2):\n",
    "  print('When star Rating is : ', i)\n",
    "  print('-' * 50)\n",
    "  print()\n",
    "  text = df_new[df_new['rating'] == i]\n",
    "  all_words = ' '.join([text for text in text.reviews])\n",
    "  wordcloud = WordCloud(width= 1500, height= 800,\n",
    "                              max_font_size = 170,\n",
    "                              collocations = False).generate(all_words)\n",
    "  plt.figure(figsize=(10,7))\n",
    "  plt.imshow(wordcloud, interpolation='bilinear')\n",
    "  plt.axis(\"off\")\n",
    "  plt.show()"
   ]
  },
  {
   "cell_type": "code",
   "execution_count": 31,
   "id": "cb4172dc",
   "metadata": {},
   "outputs": [
    {
     "name": "stdout",
     "output_type": "stream",
     "text": [
      "When star Rating is :  0\n",
      "______________________________\n",
      "\n"
     ]
    },
    {
     "data": {
      "image/png": "[encoded data removed]",
      "text/plain": [
       "<Figure size 1080x576 with 1 Axes>"
      ]
     },
     "metadata": {
      "needs_background": "light"
     },
     "output_type": "display_data"
    },
    {
     "name": "stdout",
     "output_type": "stream",
     "text": [
      "\n",
      "When star Rating is :  1\n",
      "______________________________\n",
      "\n"
     ]
    },
    {
     "data": {
      "image/png": "[encoded data removed]",
      "text/plain": [
       "<Figure size 1080x576 with 1 Axes>"
      ]
     },
     "metadata": {
      "needs_background": "light"
     },
     "output_type": "display_data"
    },
    {
     "name": "stdout",
     "output_type": "stream",
     "text": [
      "\n"
     ]
    }
   ],
   "source": [
    "# Tokenizing the words and visually representing the frequency of most popular words used\n",
    "from nltk import tokenize\n",
    "\n",
    "token_space = tokenize.WhitespaceTokenizer()\n",
    "def counter(text, column_text, quantity):\n",
    "    all_words = ' '.join([text for text in text[column_text]])\n",
    "    token_phrase = token_space.tokenize(all_words)\n",
    "    frequency = nltk.FreqDist(token_phrase)\n",
    "    data_frequency = pd.DataFrame({\"Word\": list(frequency.keys()),\n",
    "                                   \"Frequency\": list(frequency.values())})\n",
    "    data_frequency = data_frequency.nlargest(columns = \"Frequency\", n = quantity)\n",
    "    plt.figure(figsize=(15,8))\n",
    "    ax = sns.barplot(data = data_frequency, x = \"Word\", y = \"Frequency\", color = 'maroon')\n",
    "    ax.set(ylabel = \"Count\")\n",
    "    plt.xticks(rotation='vertical')\n",
    "    plt.show()\n",
    "\n",
    "\n",
    "for i in range(0,2):\n",
    "  print('When star Rating is : ', i)\n",
    "  print('_'*30)\n",
    "  print()\n",
    "  counter(df_new[df_new['rating'] == i], 'reviews', 20)\n",
    "  print()"
   ]
  },
  {
   "cell_type": "markdown",
   "id": "cb092afa",
   "metadata": {},
   "source": [
    "## Modelling phase\n"
   ]
  },
  {
   "cell_type": "markdown",
   "id": "a8d948d0",
   "metadata": {},
   "source": [
    "### without countVectorizer"
   ]
  },
  {
   "cell_type": "code",
   "execution_count": 32,
   "id": "9e4cc833",
   "metadata": {},
   "outputs": [],
   "source": [
    "X = df_new['reviews']\n",
    "Y = df_new['rating']"
   ]
  },
  {
   "cell_type": "code",
   "execution_count": 33,
   "id": "e5405bb2",
   "metadata": {},
   "outputs": [],
   "source": [
    "# Splitting data into train test set\n",
    "x_train, x_test, y_train, y_test = train_test_split(X, Y, test_size = 0.2, random_state = 42)"
   ]
  },
  {
   "cell_type": "code",
   "execution_count": 34,
   "id": "17e0927d",
   "metadata": {},
   "outputs": [
    {
     "name": "stdout",
     "output_type": "stream",
     "text": [
      "(3470,)\n",
      "--------------------------------------------------\n",
      "(868,)\n",
      "--------------------------------------------------\n",
      "(3470,)\n",
      "--------------------------------------------------\n",
      "(868,)\n",
      "--------------------------------------------------\n"
     ]
    }
   ],
   "source": [
    "print(x_train.shape)\n",
    "print('-' * 50)\n",
    "print(x_test.shape)\n",
    "print('-' * 50)\n",
    "print(y_train.shape)\n",
    "print('-' * 50)\n",
    "print(y_test.shape)\n",
    "print('-' * 50)"
   ]
  },
  {
   "cell_type": "code",
   "execution_count": 35,
   "id": "f80d3969",
   "metadata": {},
   "outputs": [],
   "source": [
    "# Tokenizing the words using Tokenizer\n",
    "# Using the most popular 8000 words from the dataset\n",
    "# Encoding the words in sentences with their key from Tokenizers and padding the encodings with small lengths than 140\n",
    "# Max character length in sentence is set to 140\n",
    "top_words = 8000\n",
    "tokenizer = Tokenizer(num_words = top_words, oov_token=\"#OOV\")\n",
    "tokenizer.fit_on_texts(x_train)\n",
    "list_tokenized_train = tokenizer.texts_to_sequences(x_train)\n",
    "\n",
    "max_review_length = 140\n",
    "X_train = pad_sequences(list_tokenized_train, maxlen = max_review_length)\n",
    "Y_train = y_train"
   ]
  },
  {
   "cell_type": "code",
   "execution_count": 36,
   "id": "5f0e4688",
   "metadata": {},
   "outputs": [],
   "source": [
    "# Encoding the text to sequences using tokenizer to prepare data for neural network\n",
    "test_word_list = tokenizer.texts_to_sequences(x_test)\n",
    "X_test = pad_sequences(test_word_list, maxlen = max_review_length)\n",
    "Y_test = y_test"
   ]
  },
  {
   "cell_type": "markdown",
   "id": "1e4d668f",
   "metadata": {},
   "source": [
    "## Modelling using CountVectorizer"
   ]
  },
  {
   "cell_type": "code",
   "execution_count": 37,
   "id": "1657b6a6",
   "metadata": {},
   "outputs": [
    {
     "data": {
      "text/plain": [
       "array([[0, 0, 0, ..., 0, 0, 0],\n",
       "       [0, 0, 0, ..., 0, 0, 0],\n",
       "       [0, 0, 0, ..., 0, 0, 0],\n",
       "       ...,\n",
       "       [0, 0, 0, ..., 0, 0, 0],\n",
       "       [0, 0, 0, ..., 0, 0, 0],\n",
       "       [0, 0, 0, ..., 0, 0, 0]], dtype=int64)"
      ]
     },
     "execution_count": 37,
     "metadata": {},
     "output_type": "execute_result"
    }
   ],
   "source": [
    "from sklearn.feature_extraction.text import CountVectorizer\n",
    "\n",
    "cv = CountVectorizer(max_features=8000, ngram_range=(2,2))\n",
    "x_stem = cv.fit_transform(X).toarray()\n",
    "x_stem"
   ]
  },
  {
   "cell_type": "code",
   "execution_count": 38,
   "id": "d10a7b7f",
   "metadata": {},
   "outputs": [],
   "source": [
    "x_train, x_test, y_train, y_test = train_test_split(x_stem, Y, test_size = 0.2, random_state = 42)"
   ]
  },
  {
   "cell_type": "markdown",
   "id": "526b91a6",
   "metadata": {},
   "source": [
    "## Logistic regression"
   ]
  },
  {
   "cell_type": "code",
   "execution_count": 41,
   "id": "d747f76c",
   "metadata": {},
   "outputs": [],
   "source": [
    "lr = LogisticRegression(max_iter=5000)\n",
    "lr.fit(x_train, y_train)\n",
    "\n",
    "y_pred_train = lr.predict(x_train)\n",
    "y_pred_test = lr.predict(x_test)"
   ]
  },
  {
   "cell_type": "code",
   "execution_count": 42,
   "id": "b3cb44fa",
   "metadata": {},
   "outputs": [
    {
     "name": "stdout",
     "output_type": "stream",
     "text": [
      "Train set Accuracy:  0.9927953890489913\n",
      "Test set Accuracy:  0.8963133640552995\n",
      "Train set f1-score:  0.9955428775182742\n",
      "Test set f1-score:  0.9394347240915208\n"
     ]
    },
    {
     "data": {
      "text/plain": [
       "array([[ 653,   25],\n",
       "       [   0, 2792]], dtype=int64)"
      ]
     },
     "execution_count": 42,
     "metadata": {},
     "output_type": "execute_result"
    }
   ],
   "source": [
    "print(\"Train set Accuracy: \",lr.score(x_train, y_train))\n",
    "print(\"Test set Accuracy: \", lr.score(x_test, y_test))\n",
    "print(\"Train set f1-score: \",f1_score(lr.predict(x_train), y_train))\n",
    "print(\"Test set f1-score: \", f1_score(lr.predict(x_test), y_test))\n",
    "from sklearn.metrics import confusion_matrix\n",
    "confusion_matrix(y_train, y_pred_train)"
   ]
  },
  {
   "cell_type": "markdown",
   "id": "06e36278",
   "metadata": {},
   "source": [
    "## Random Forest Classifier"
   ]
  },
  {
   "cell_type": "code",
   "execution_count": 42,
   "id": "45059775",
   "metadata": {},
   "outputs": [
    {
     "data": {
      "text/plain": [
       "RandomForestClassifier(n_estimators=60)"
      ]
     },
     "execution_count": 42,
     "metadata": {},
     "output_type": "execute_result"
    }
   ],
   "source": [
    "rfc = RandomForestClassifier(n_estimators = 60)\n",
    "rfc.fit(x_train, y_train)"
   ]
  },
  {
   "cell_type": "code",
   "execution_count": 43,
   "id": "fba31e54",
   "metadata": {},
   "outputs": [
    {
     "name": "stdout",
     "output_type": "stream",
     "text": [
      "Train set Accuracy:  0.9985590778097982\n",
      "Test set Accuracy:  0.868663594470046\n",
      "Train set f1-score:  0.9991053855788156\n",
      "Test set f1-score:  0.921917808219178\n"
     ]
    }
   ],
   "source": [
    "print(\"Train set Accuracy: \",rfc.score(x_train, y_train))\n",
    "print(\"Test set Accuracy: \", rfc.score(x_test, y_test))\n",
    "print(\"Train set f1-score: \",f1_score(rfc.predict(x_train), y_train))\n",
    "print(\"Test set f1-score: \", f1_score(rfc.predict(x_test), y_test))"
   ]
  },
  {
   "cell_type": "markdown",
   "id": "a384da53",
   "metadata": {},
   "source": [
    "## Gaussian Naive Bayes"
   ]
  },
  {
   "cell_type": "code",
   "execution_count": 43,
   "id": "23c33579",
   "metadata": {},
   "outputs": [
    {
     "data": {
      "text/plain": [
       "GaussianNB()"
      ]
     },
     "execution_count": 43,
     "metadata": {},
     "output_type": "execute_result"
    }
   ],
   "source": [
    "gnb = GaussianNB()\n",
    "gnb.fit(x_train, y_train)"
   ]
  },
  {
   "cell_type": "code",
   "execution_count": 44,
   "id": "1ab5267d",
   "metadata": {},
   "outputs": [],
   "source": [
    "y_pred_train = gnb.predict(x_train)\n",
    "y_pred_test = gnb.predict(x_test)"
   ]
  },
  {
   "cell_type": "code",
   "execution_count": 45,
   "id": "7c2a958d",
   "metadata": {},
   "outputs": [
    {
     "name": "stdout",
     "output_type": "stream",
     "text": [
      "Train set Accuracy:  0.9654178674351584\n",
      "Test set Accuracy:  0.8283410138248848\n",
      "Train set f1-score:  0.9780380673499268\n",
      "Test set f1-score:  0.8999328408327737\n"
     ]
    },
    {
     "data": {
      "text/plain": [
       "array([[ 678,    0],\n",
       "       [ 120, 2672]], dtype=int64)"
      ]
     },
     "execution_count": 45,
     "metadata": {},
     "output_type": "execute_result"
    }
   ],
   "source": [
    "print(\"Train set Accuracy: \",accuracy_score(y_pred=y_pred_train, y_true=y_train))\n",
    "print(\"Test set Accuracy: \", accuracy_score(y_pred=y_pred_test, y_true=y_test))\n",
    "print(\"Train set f1-score: \",f1_score(gnb.predict(x_train), y_train))\n",
    "print(\"Test set f1-score: \", f1_score(gnb.predict(x_test), y_test))\n",
    "from sklearn.metrics import confusion_matrix\n",
    "confusion_matrix(y_train, y_pred_train)"
   ]
  },
  {
   "cell_type": "markdown",
   "id": "87dc8c60",
   "metadata": {},
   "source": [
    "### Deep Learning Model"
   ]
  },
  {
   "cell_type": "code",
   "execution_count": 47,
   "id": "a1eff350",
   "metadata": {},
   "outputs": [
    {
     "name": "stdout",
     "output_type": "stream",
     "text": [
      "Model: \"sequential\"\n",
      "_________________________________________________________________\n",
      " Layer (type)                Output Shape              Param #   \n",
      "=================================================================\n",
      " embedding (Embedding)       (None, 140, 32)           256032    \n",
      "                                                                 \n",
      " lstm (LSTM)                 (None, 200)               186400    \n",
      "                                                                 \n",
      " dense (Dense)               (None, 1)                 201       \n",
      "                                                                 \n",
      "=================================================================\n",
      "Total params: 442,633\n",
      "Trainable params: 442,633\n",
      "Non-trainable params: 0\n",
      "_________________________________________________________________\n"
     ]
    }
   ],
   "source": [
    "model = Sequential()\n",
    "model.add(Embedding(top_words+1, 32, input_length=max_review_length))\n",
    "model.add(LSTM(200))\n",
    "model.add(Dense(1, activation='sigmoid'))\n",
    "model.compile(loss='binary_crossentropy', optimizer='adam', metrics=['accuracy'])\n",
    "model.summary()"
   ]
  },
  {
   "cell_type": "code",
   "execution_count": 48,
   "id": "d1a6b35d",
   "metadata": {},
   "outputs": [
    {
     "name": "stdout",
     "output_type": "stream",
     "text": [
      "Epoch 1/20\n",
      "347/347 [==============================] - 62s 158ms/step - loss: 0.3420 - accuracy: 0.8588 - val_loss: 0.2226 - val_accuracy: 0.9135\n",
      "Epoch 2/20\n",
      "347/347 [==============================] - 50s 145ms/step - loss: 0.1381 - accuracy: 0.9485 - val_loss: 0.1817 - val_accuracy: 0.9251\n",
      "Epoch 3/20\n",
      "347/347 [==============================] - 51s 146ms/step - loss: 0.0599 - accuracy: 0.9823 - val_loss: 0.1759 - val_accuracy: 0.9395\n",
      "Epoch 4/20\n",
      "347/347 [==============================] - 52s 149ms/step - loss: 0.0339 - accuracy: 0.9903 - val_loss: 0.2573 - val_accuracy: 0.9337\n",
      "Epoch 5/20\n",
      "347/347 [==============================] - 53s 151ms/step - loss: 0.0150 - accuracy: 0.9971 - val_loss: 0.2339 - val_accuracy: 0.9265\n",
      "Epoch 6/20\n",
      "347/347 [==============================] - 51s 146ms/step - loss: 0.0076 - accuracy: 0.9993 - val_loss: 0.2997 - val_accuracy: 0.9308\n",
      "Epoch 7/20\n",
      "347/347 [==============================] - 53s 152ms/step - loss: 0.0061 - accuracy: 0.9978 - val_loss: 0.3038 - val_accuracy: 0.9207\n",
      "Epoch 8/20\n",
      "347/347 [==============================] - 51s 146ms/step - loss: 0.0408 - accuracy: 0.9863 - val_loss: 0.2406 - val_accuracy: 0.9107\n",
      "Epoch 9/20\n",
      "347/347 [==============================] - 51s 146ms/step - loss: 0.0382 - accuracy: 0.9870 - val_loss: 0.3000 - val_accuracy: 0.9222\n",
      "Epoch 10/20\n",
      "347/347 [==============================] - 50s 146ms/step - loss: 0.0070 - accuracy: 0.9978 - val_loss: 0.3055 - val_accuracy: 0.9207\n",
      "Epoch 11/20\n",
      "347/347 [==============================] - 51s 148ms/step - loss: 0.0013 - accuracy: 0.9996 - val_loss: 0.3288 - val_accuracy: 0.9251\n",
      "Epoch 12/20\n",
      "347/347 [==============================] - 50s 145ms/step - loss: 4.9012e-04 - accuracy: 1.0000 - val_loss: 0.3701 - val_accuracy: 0.9236\n",
      "Epoch 13/20\n",
      "347/347 [==============================] - 51s 147ms/step - loss: 3.0319e-04 - accuracy: 1.0000 - val_loss: 0.3983 - val_accuracy: 0.9294\n",
      "Epoch 14/20\n",
      "347/347 [==============================] - 48s 139ms/step - loss: 2.3854e-04 - accuracy: 1.0000 - val_loss: 0.4057 - val_accuracy: 0.9236\n",
      "Epoch 15/20\n",
      "347/347 [==============================] - 48s 137ms/step - loss: 1.7404e-04 - accuracy: 1.0000 - val_loss: 0.4469 - val_accuracy: 0.9280\n",
      "Epoch 16/20\n",
      "347/347 [==============================] - 48s 139ms/step - loss: 1.0661e-04 - accuracy: 1.0000 - val_loss: 0.4755 - val_accuracy: 0.9280\n",
      "Epoch 17/20\n",
      "347/347 [==============================] - 48s 138ms/step - loss: 7.7067e-05 - accuracy: 1.0000 - val_loss: 0.4967 - val_accuracy: 0.9294\n",
      "Epoch 18/20\n",
      "347/347 [==============================] - 48s 139ms/step - loss: 5.7706e-05 - accuracy: 1.0000 - val_loss: 0.5128 - val_accuracy: 0.9294\n",
      "Epoch 19/20\n",
      "347/347 [==============================] - 49s 141ms/step - loss: 4.5025e-05 - accuracy: 1.0000 - val_loss: 0.5154 - val_accuracy: 0.9294\n",
      "Epoch 20/20\n",
      "347/347 [==============================] - 48s 139ms/step - loss: 3.4774e-05 - accuracy: 1.0000 - val_loss: 0.5108 - val_accuracy: 0.9280\n"
     ]
    },
    {
     "data": {
      "text/plain": [
       "<keras.callbacks.History at 0x14976b9d9d0>"
      ]
     },
     "execution_count": 48,
     "metadata": {},
     "output_type": "execute_result"
    }
   ],
   "source": [
    "model.fit(X_train, Y_train, epochs=20, batch_size=8, validation_split=0.2)"
   ]
  },
  {
   "cell_type": "code",
   "execution_count": 49,
   "id": "8a29ef08",
   "metadata": {},
   "outputs": [],
   "source": [
    " y_pred_train = model.predict(X_train)\n",
    "y_pred_test = model.predict(X_test)"
   ]
  },
  {
   "cell_type": "code",
   "execution_count": 50,
   "id": "5274fb37",
   "metadata": {},
   "outputs": [],
   "source": [
    "y_pred_train = (y_pred_train > 0.5)\n",
    "y_pred_test = (y_pred_test > 0.5)"
   ]
  },
  {
   "cell_type": "code",
   "execution_count": 51,
   "id": "4081788a",
   "metadata": {},
   "outputs": [
    {
     "name": "stdout",
     "output_type": "stream",
     "text": [
      "Train set Accuracy:  0.9855907780979827\n",
      "Test set Accuracy:  0.923963133640553\n",
      "Train set f1-score:  0.9910458452722063\n",
      "Test set f1-score:  0.953781512605042\n"
     ]
    }
   ],
   "source": [
    "print(\"Train set Accuracy: \",accuracy_score(y_pred=y_pred_train, y_true=y_train))\n",
    "print(\"Test set Accuracy: \", accuracy_score(y_pred=y_pred_test, y_true=y_test))\n",
    "print(\"Train set f1-score: \",f1_score(y_pred_train, y_train))\n",
    "print(\"Test set f1-score: \", f1_score(y_pred_test, y_test))"
   ]
  },
  {
   "cell_type": "code",
   "execution_count": 52,
   "id": "687efa34",
   "metadata": {},
   "outputs": [],
   "source": [
    "from textblob import TextBlob"
   ]
  },
  {
   "cell_type": "code",
   "execution_count": 53,
   "id": "5f278552",
   "metadata": {},
   "outputs": [
    {
     "data": {
      "text/plain": [
       "Index(['rating', 'reviews'], dtype='object')"
      ]
     },
     "execution_count": 53,
     "metadata": {},
     "output_type": "execute_result"
    }
   ],
   "source": [
    "df_new.columns"
   ]
  },
  {
   "cell_type": "code",
   "execution_count": 54,
   "id": "133a7e5e",
   "metadata": {},
   "outputs": [
    {
     "name": "stderr",
     "output_type": "stream",
     "text": [
      "C:\\Users\\AYUSHS~1\\AppData\\Local\\Temp/ipykernel_12428/3815487575.py:1: SettingWithCopyWarning: \n",
      "A value is trying to be set on a copy of a slice from a DataFrame.\n",
      "Try using .loc[row_indexer,col_indexer] = value instead\n",
      "\n",
      "See the caveats in the documentation: https://pandas.pydata.org/pandas-docs/stable/user_guide/indexing.html#returning-a-view-versus-a-copy\n",
      "  df_new['reviews']= df_new['reviews'].astype(str) # Make sure about the correct data type\n",
      "C:\\Users\\AYUSHS~1\\AppData\\Local\\Temp/ipykernel_12428/3815487575.py:3: SettingWithCopyWarning: \n",
      "A value is trying to be set on a copy of a slice from a DataFrame.\n",
      "Try using .loc[row_indexer,col_indexer] = value instead\n",
      "\n",
      "See the caveats in the documentation: https://pandas.pydata.org/pandas-docs/stable/user_guide/indexing.html#returning-a-view-versus-a-copy\n",
      "  df_new['polarity'] = df_new['reviews'].apply(pol)\n"
     ]
    },
    {
     "data": {
      "text/plain": [
       "Text(0.5, 1.0, 'Histogram of Polarity Score')"
      ]
     },
     "execution_count": 54,
     "metadata": {},
     "output_type": "execute_result"
    },
    {
     "data": {
      "image/png": "[encoded data removed]",
      "text/plain": [
       "<Figure size 720x432 with 1 Axes>"
      ]
     },
     "metadata": {
      "needs_background": "light"
     },
     "output_type": "display_data"
    }
   ],
   "source": [
    "df_new['reviews']= df_new['reviews'].astype(str) # Make sure about the correct data type\n",
    "pol = lambda x: TextBlob(x).sentiment.polarity\n",
    "df_new['polarity'] = df_new['reviews'].apply(pol) \n",
    "num_bins = 50\n",
    "plt.figure(figsize=(10,6))\n",
    "n, bins, patches = plt.hist(df_new.polarity, num_bins, facecolor='blue', alpha=0.5)\n",
    "plt.xlabel('Polarity')\n",
    "plt.ylabel('Number of Reviews')\n",
    "plt.title('Histogram of Polarity Score')"
   ]
  },
  {
   "cell_type": "code",
   "execution_count": null,
   "id": "b3012cf3",
   "metadata": {},
   "outputs": [],
   "source": []
  }
 ],
 "metadata": {
  "kernelspec": {
   "display_name": "Python 3 (ipykernel)",
   "language": "python",
   "name": "python3"
  },
  "language_info": {
   "codemirror_mode": {
    "name": "ipython",
    "version": 3
   },
   "file_extension": ".py",
   "mimetype": "text/x-python",
   "name": "python",
   "nbconvert_exporter": "python",
   "pygments_lexer": "ipython3",
   "version": "3.9.7"
  }
 },
 "nbformat": 4,
 "nbformat_minor": 5
}
